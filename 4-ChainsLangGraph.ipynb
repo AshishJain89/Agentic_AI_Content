{
 "cells": [
  {
   "cell_type": "markdown",
   "metadata": {},
   "source": [
    "Chain using LangGraph"
   ]
  },
  {
   "cell_type": "markdown",
   "metadata": {},
   "source": [
    "- How to use chat messages in our graph state\n",
    "- How to use chat models in graph nodes\n",
    "- how to bind tools to our LLM in nodes\n",
    "- how to execute the tools calls in graph nodes"
   ]
  },
  {
   "cell_type": "code",
   "execution_count": 1,
   "metadata": {},
   "outputs": [],
   "source": [
    "import os\n",
    "from dotenv import load_dotenv\n",
    "load_dotenv()\n",
    "\n",
    "groq_api_key = os.getenv('GROQ_API_KEY')"
   ]
  },
  {
   "cell_type": "code",
   "execution_count": 2,
   "metadata": {},
   "outputs": [
    {
     "data": {
      "text/plain": [
       "'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'"
      ]
     },
     "execution_count": 2,
     "metadata": {},
     "output_type": "execute_result"
    }
   ],
   "source": [
    "groq_api_key"
   ]
  },
  {
   "cell_type": "markdown",
   "metadata": {},
   "source": [
    "### How to use chat messages in our graph state"
   ]
  },
  {
   "cell_type": "code",
   "execution_count": 3,
   "metadata": {},
   "outputs": [],
   "source": [
    "from langchain_core.messages import HumanMessage, AIMessage , AnyMessage"
   ]
  },
  {
   "cell_type": "code",
   "execution_count": 4,
   "metadata": {},
   "outputs": [],
   "source": [
    "messages = [AIMessage(content='Please tell me how I can help you?' , name = 'LLMModel')]"
   ]
  },
  {
   "cell_type": "code",
   "execution_count": 5,
   "metadata": {},
   "outputs": [],
   "source": [
    "messages.append(HumanMessage(content='I want to learn programming', name='Ankur'))"
   ]
  },
  {
   "cell_type": "code",
   "execution_count": 6,
   "metadata": {},
   "outputs": [
    {
     "data": {
      "text/plain": [
       "[AIMessage(content='Please tell me how I can help you?', additional_kwargs={}, response_metadata={}, name='LLMModel'),\n",
       " HumanMessage(content='I want to learn programming', additional_kwargs={}, response_metadata={}, name='Ankur')]"
      ]
     },
     "execution_count": 6,
     "metadata": {},
     "output_type": "execute_result"
    }
   ],
   "source": [
    "messages"
   ]
  },
  {
   "cell_type": "code",
   "execution_count": 7,
   "metadata": {},
   "outputs": [],
   "source": [
    "messages.append(AIMessage(content='Which programming language you want to learn?' , name = 'LLMModel'))"
   ]
  },
  {
   "cell_type": "code",
   "execution_count": 8,
   "metadata": {},
   "outputs": [
    {
     "data": {
      "text/plain": [
       "[AIMessage(content='Please tell me how I can help you?', additional_kwargs={}, response_metadata={}, name='LLMModel'),\n",
       " HumanMessage(content='I want to learn programming', additional_kwargs={}, response_metadata={}, name='Ankur'),\n",
       " AIMessage(content='Which programming language you want to learn?', additional_kwargs={}, response_metadata={}, name='LLMModel')]"
      ]
     },
     "execution_count": 8,
     "metadata": {},
     "output_type": "execute_result"
    }
   ],
   "source": [
    "messages"
   ]
  },
  {
   "cell_type": "code",
   "execution_count": 9,
   "metadata": {},
   "outputs": [],
   "source": [
    "messages.append(HumanMessage(content='I want to learn Python', name='Ankur'))"
   ]
  },
  {
   "cell_type": "code",
   "execution_count": 10,
   "metadata": {},
   "outputs": [],
   "source": [
    "from pprint import pprint"
   ]
  },
  {
   "cell_type": "code",
   "execution_count": 11,
   "metadata": {},
   "outputs": [
    {
     "name": "stdout",
     "output_type": "stream",
     "text": [
      "==================================\u001b[1m Ai Message \u001b[0m==================================\n",
      "Name: LLMModel\n",
      "\n",
      "Please tell me how I can help you?\n",
      "================================\u001b[1m Human Message \u001b[0m=================================\n",
      "Name: Ankur\n",
      "\n",
      "I want to learn programming\n",
      "==================================\u001b[1m Ai Message \u001b[0m==================================\n",
      "Name: LLMModel\n",
      "\n",
      "Which programming language you want to learn?\n",
      "================================\u001b[1m Human Message \u001b[0m=================================\n",
      "Name: Ankur\n",
      "\n",
      "I want to learn Python\n"
     ]
    }
   ],
   "source": [
    "for message in messages:\n",
    "    message.pretty_print()"
   ]
  },
  {
   "cell_type": "markdown",
   "metadata": {},
   "source": [
    "#### Chat Model"
   ]
  },
  {
   "cell_type": "code",
   "execution_count": 12,
   "metadata": {},
   "outputs": [],
   "source": [
    "from langchain_groq import ChatGroq\n",
    "llm = ChatGroq(model = 'qwen-qwq-32b')\n",
    "result = llm.invoke(messages)"
   ]
  },
  {
   "cell_type": "code",
   "execution_count": 13,
   "metadata": {},
   "outputs": [
    {
     "name": "stdout",
     "output_type": "stream",
     "text": [
      "==================================\u001b[1m Ai Message \u001b[0m==================================\n",
      "\n",
      "\n",
      "<think>\n",
      "Okay, the user wants to learn Python. Let me start by breaking down the best approach for a beginner.\n",
      "\n",
      "First, I should outline the basics they need to cover. The fundamentals like syntax, variables, data types, and control structures are essential. Maybe suggest starting with a simple \"Hello, World!\" to get them going.\n",
      "\n",
      "Then, they'll need to set up their environment. Mention Python's official website for installation, and maybe recommend an IDE like PyCharm or VS Code. Oh, and Jupyter Notebooks could be good for interactive learning.\n",
      "\n",
      "Next, resources. FreeCodeCamp and Codecademy offer structured courses. FreeCodeCamp's Python course is pretty comprehensive. I should list a few websites and maybe some books like \"Automate the Boring Stuff\" which is known for practical examples.\n",
      "\n",
      "Projects are important for applying knowledge. Start with small projects like a calculator or to-do list, then move to more complex ones like a web scraper or a basic game. That helps reinforce concepts.\n",
      "\n",
      "Online communities would be useful too. Pointing them to Stack Overflow for problem-solving and GitHub for collaborative projects. Reddit's r/learnpython and Python Discord can provide support.\n",
      "\n",
      "Frameworks and libraries come later. Once they have the basics down, recommend Django for web dev and Flask for microservices. Data science libraries like NumPy and Pandas are also big, so mention those.\n",
      "\n",
      "Practice and persistence are key. Encourage them to work on projects regularly and seek feedback. Maybe suggest contributing to open source on GitHub.\n",
      "\n",
      "Putting it all together, the response should be structured but not overwhelming. Each section should guide them step by step from installation to advanced topics. Make sure to highlight the importance of hands-on practice and community involvement.\n",
      "\n",
      "I should also check if there are any common pitfalls beginners face, like not practicing enough or getting stuck on theory without writing code. Emphasize writing code daily and building projects.\n",
      "\n",
      "Wait, the user might need a roadmap. Let me present it in a clear, step-by-step manner with resources and examples. Keep the tone encouraging to keep them motivated. Alright, time to organize all this into a helpful response.\n",
      "</think>\n",
      "\n",
      "Great choice! Python is an excellent language for beginners due to its simplicity, readability, and versatility. Here's a step-by-step roadmap to help you learn Python effectively:\n",
      "\n",
      "---\n",
      "\n",
      "### **1. Start with the Basics**\n",
      "- **Install Python**: \n",
      "  - Download and install Python from [python.org](https://www.python.org) (make sure to check \"Add Python to PATH\").\n",
      "  - Verify installation by opening a terminal/command prompt and typing `python --version`.\n",
      "\n",
      "- **Learn the Fundamentals**:\n",
      "  - **Syntax**: Understand how Python code is written (e.g., indentation matters!).\n",
      "  - **Variables and Data Types**: Numbers, strings, lists, tuples, dictionaries, and booleans.\n",
      "  - **Control Structures**: `if`/`else`, `for` loops, `while` loops.\n",
      "  - **Functions**: How to define and use functions with `def`.\n",
      "  - **Error Handling**: Basics of `try`/`except`.\n",
      "\n",
      "---\n",
      "\n",
      "### **2. Choose a Learning Environment**\n",
      "- **IDEs/Code Editors**:\n",
      "  - **VS Code** (free, lightweight, with the Python extension).\n",
      "  - **PyCharm** (IDE specifically for Python, Community Edition is free).\n",
      "  - **Jupyter Notebooks** (great for interactive learning and data analysis).\n",
      "\n",
      "- **Practice Platforms**:\n",
      "  - [Codecademy](https://www.codecademy.com/learn/learn-python-3) (interactive coding lessons).\n",
      "  - [freeCodeCamp](https://www.freecodecamp.org/) (free Python curriculum).\n",
      "  - [SoloLearn](https://www.sololearn.com/) (mobile-friendly, bite-sized lessons).\n",
      "\n",
      "---\n",
      "\n",
      "### **3. Core Learning Resources**\n",
      "- **Free Online Courses**:\n",
      "  - [Codecademy’s Python 3 Course](https://www.codecademy.com/learn/learn-python-3) (interactive, beginner-friendly).\n",
      "  - [freeCodeCamp’s Python Course](https://www.freecodecamp.org/learn/scientific-computing-with-python) (covers advanced topics).\n",
      "  - [Coursera’s \"Python for Everybody\" Specialization](https://www.coursera.org/specializations/python) (University of Michigan, free to audit).\n",
      "\n",
      "- **Books**:\n",
      "  - **Beginner**: *[Python Crash Course by Eric Matthes](https://www.amazon.com/Python-Crash-Course-2nd-Edition/dp/1593279280)* (practical projects + exercises).\n",
      "  - **Intermediate**: *[Automate the Boring Stuff with Python by Al Sweigart](https://automatetheboringstuff.com/)* (free online, focuses on real-world automation).\n",
      "\n",
      "- **YouTube Channels**:\n",
      "  - [Corey Schafer’s Python Tutorials](https://www.youtube.com/user/schafer5) (clear, structured tutorials).\n",
      "  - [Sentdex](https://www.youtube.com/user/sentdex) (covers data science and game development).\n",
      "\n",
      "---\n",
      "\n",
      "### **4. Practice Coding Daily**\n",
      "- **Write Small Programs**:\n",
      "  - Start with \"Hello, World!\" and move to:\n",
      "    - A calculator (basic math operations).\n",
      "    - A to-do list app (using lists and loops).\n",
      "    - A rock-paper-scissors game (random module + conditionals).\n",
      "\n",
      "- **Solve Problems**:\n",
      "  - Platforms like [LeetCode](https://leetcode.com/) or [HackerRank](https://www.hackerrank.com/) for coding challenges.\n",
      "  - [Project Euler](https://projecteuler.net/) for math/programming puzzles.\n",
      "\n",
      "---\n",
      "\n",
      "### **5. Explore Libraries and Frameworks**\n",
      "Once you’re comfortable with the basics, dive into specialized areas:\n",
      "- **Web Development**:\n",
      "  - **Flask** (microframework for small apps).\n",
      "  - **Django** (full-stack framework for robust web apps).\n",
      "  \n",
      "- **Data Science/Machine Learning**:\n",
      "  - **NumPy** (numerical computing).\n",
      "  - **Pandas** (data manipulation).\n",
      "  - **Matplotlib/Seaborn** (data visualization).\n",
      "  - **Scikit-learn** (machine learning).\n",
      "\n",
      "- **Automation**:\n",
      "  - Automate Excel/CSV files.\n",
      "  - Automate browser tasks with **Selenium**.\n",
      "\n",
      "- **Fun Projects**:\n",
      "  - Build a chatbot (using NLP libraries like NLTK or Transformers).\n",
      "  - Create a simple game (e.g., using Pygame).\n",
      "\n",
      "---\n",
      "\n",
      "### **6. Join the Community**\n",
      "- **Forums and Communities**:\n",
      "  - [Stack Overflow](https://stackoverflow.com/) (ask/answer technical questions).\n",
      "  - [Reddit’s r/learnpython](https://www.reddit.com/r/learnpython/).\n",
      "  - [Python Discord Server](https://discord.gg/python) (real-time help).\n",
      "\n",
      "- **Open Source Contributions**:\n",
      "  - Contribute to projects on [GitHub](https://github.com/).\n",
      "  - Fix bugs or add features to small open-source projects.\n",
      "\n",
      "---\n",
      "\n",
      "### **7. Advanced Topics (Once You’re Comfortable)**\n",
      "- **Object-Oriented Programming (OOP)**: Classes, objects, inheritance.\n",
      "- **APIs and Web Scraping**: Use `requests` and `BeautifulSoup`.\n",
      "- **Databases**: Learn `SQLite` or `SQLAlchemy` for database interactions.\n",
      "- **Deployment**: Learn to deploy apps with tools like **Docker** or **Heroku**.\n",
      "\n",
      "---\n",
      "\n",
      "### **8. Sample Learning Path for 1 Month**\n",
      "- **Week 1**: Basics (syntax, variables, loops, functions, error handling).\n",
      "- **Week 2**: File I/O, lists/dictionaries, and simple automation.\n",
      "- **Week 3**: Build a small project (e.g., a password generator, a basic quiz).\n",
      "- **Week 4**: Explore a library (e.g., `matplotlib` or `requests`).\n",
      "\n",
      "---\n",
      "\n",
      "### **9. Stay Motivated**\n",
      "- **Set Small Goals**: Build something every week.\n",
      "- **Track Progress**: Document your journey in a coding journal.\n",
      "- **Teach Others**: Explain concepts to friends or write blog posts (or even answer questions here!).\n",
      "\n",
      "---\n",
      "\n",
      "### **Recommended First Projects**\n",
      "1. **Weather App**: Fetch weather data using an API (e.g., OpenWeatherMap).\n",
      "2. **To-Do List CLI**: Create a command-line app to manage tasks.\n",
      "3. **Password Generator**: Generate secure passwords using randomization.\n",
      "4. **Basic Calculator**: Perform arithmetic operations with user input.\n",
      "5. **Web Scraper**: Extract data from websites (use `requests` and `BeautifulSoup`).\n",
      "\n",
      "---\n",
      "\n",
      "### **Final Tip**\n",
      "- **Practice Consistently**: Code daily, even if it’s just 30 minutes.\n",
      "- **Be Patient**: Programming takes time. Celebrate small wins!\n",
      "\n",
      "Let me know if you want recommendations for specific tools/resources or help with a project idea! 😊\n"
     ]
    }
   ],
   "source": [
    "result.pretty_print()"
   ]
  },
  {
   "cell_type": "code",
   "execution_count": 14,
   "metadata": {},
   "outputs": [
    {
     "data": {
      "text/plain": [
       "{'token_usage': {'completion_tokens': 1856,\n",
       "  'prompt_tokens': 57,\n",
       "  'total_tokens': 1913,\n",
       "  'completion_time': 4.522874341,\n",
       "  'prompt_time': 0.005579812,\n",
       "  'queue_time': 0.248224258,\n",
       "  'total_time': 4.528454153},\n",
       " 'model_name': 'qwen-qwq-32b',\n",
       " 'system_fingerprint': 'fp_1e88ca32eb',\n",
       " 'finish_reason': 'stop',\n",
       " 'logprobs': None}"
      ]
     },
     "execution_count": 14,
     "metadata": {},
     "output_type": "execute_result"
    }
   ],
   "source": [
    "result.response_metadata"
   ]
  },
  {
   "cell_type": "markdown",
   "metadata": {},
   "source": [
    "Tools"
   ]
  },
  {
   "cell_type": "code",
   "execution_count": 15,
   "metadata": {},
   "outputs": [],
   "source": [
    "from langchain_core.tools import tool"
   ]
  },
  {
   "cell_type": "code",
   "execution_count": 16,
   "metadata": {},
   "outputs": [],
   "source": [
    "@tool\n",
    "def add(a:int , b:int) -> int:\n",
    "    \"\"\"Add a and b\n",
    "    Args:\n",
    "    a (int) : first int\n",
    "    b (int) : second int\n",
    "    \n",
    "    Returns:\n",
    "    int\n",
    "    \n",
    "    \"\"\"\n",
    "\n",
    "    return a+b\n",
    "    "
   ]
  },
  {
   "cell_type": "code",
   "execution_count": 17,
   "metadata": {},
   "outputs": [
    {
     "data": {
      "text/plain": [
       "ChatGroq(client=<groq.resources.chat.completions.Completions object at 0x000001F249CBB010>, async_client=<groq.resources.chat.completions.AsyncCompletions object at 0x000001F249DFBE10>, model_name='qwen-qwq-32b', model_kwargs={}, groq_api_key=SecretStr('**********'))"
      ]
     },
     "execution_count": 17,
     "metadata": {},
     "output_type": "execute_result"
    }
   ],
   "source": [
    "llm"
   ]
  },
  {
   "cell_type": "markdown",
   "metadata": {},
   "source": [
    "### Binding the tool\n",
    "\n"
   ]
  },
  {
   "cell_type": "code",
   "execution_count": 18,
   "metadata": {},
   "outputs": [],
   "source": [
    "llm_with_tools = llm.bind_tools([add])"
   ]
  },
  {
   "cell_type": "code",
   "execution_count": 19,
   "metadata": {},
   "outputs": [],
   "source": [
    "tool_calls = llm_with_tools.invoke(messages)"
   ]
  },
  {
   "cell_type": "code",
   "execution_count": 20,
   "metadata": {},
   "outputs": [
    {
     "data": {
      "text/plain": [
       "[]"
      ]
     },
     "execution_count": 20,
     "metadata": {},
     "output_type": "execute_result"
    }
   ],
   "source": [
    "tool_calls.tool_calls"
   ]
  },
  {
   "cell_type": "code",
   "execution_count": 21,
   "metadata": {},
   "outputs": [],
   "source": [
    "tool_call = llm_with_tools.invoke([HumanMessage(content=\"What is 3 plus 4\", name='Ankur')])"
   ]
  },
  {
   "cell_type": "code",
   "execution_count": 22,
   "metadata": {},
   "outputs": [
    {
     "data": {
      "text/plain": [
       "[{'name': 'add',\n",
       "  'args': {'a': 3, 'b': 4},\n",
       "  'id': 'xdse9n8sf',\n",
       "  'type': 'tool_call'}]"
      ]
     },
     "execution_count": 22,
     "metadata": {},
     "output_type": "execute_result"
    }
   ],
   "source": [
    "tool_call.tool_calls"
   ]
  },
  {
   "cell_type": "markdown",
   "metadata": {},
   "source": [
    "Implementing this with LangGraph"
   ]
  },
  {
   "cell_type": "markdown",
   "metadata": {},
   "source": [
    "Create a State Schema with the help of messages"
   ]
  },
  {
   "cell_type": "code",
   "execution_count": 23,
   "metadata": {},
   "outputs": [
    {
     "data": {
      "text/plain": [
       "[AIMessage(content='Please tell me how I can help you?', additional_kwargs={}, response_metadata={}, name='LLMModel'),\n",
       " HumanMessage(content='I want to learn programming', additional_kwargs={}, response_metadata={}, name='Ankur'),\n",
       " AIMessage(content='Which programming language you want to learn?', additional_kwargs={}, response_metadata={}, name='LLMModel'),\n",
       " HumanMessage(content='I want to learn Python', additional_kwargs={}, response_metadata={}, name='Ankur')]"
      ]
     },
     "execution_count": 23,
     "metadata": {},
     "output_type": "execute_result"
    }
   ],
   "source": [
    "messages"
   ]
  },
  {
   "cell_type": "code",
   "execution_count": 24,
   "metadata": {},
   "outputs": [],
   "source": [
    "from typing_extensions import TypedDict\n",
    "from typing import Annotated\n",
    "from langgraph.graph.message import add_messages\n"
   ]
  },
  {
   "cell_type": "code",
   "execution_count": 25,
   "metadata": {},
   "outputs": [],
   "source": [
    "### State Schema\n",
    "\n",
    "class State(TypedDict):\n",
    "    messages : Annotated[list[AnyMessage], add_messages] "
   ]
  },
  {
   "cell_type": "markdown",
   "metadata": {},
   "source": [
    "### Understanding of how reducer function works"
   ]
  },
  {
   "cell_type": "code",
   "execution_count": 26,
   "metadata": {},
   "outputs": [],
   "source": [
    "initial_message = [AIMessage(content='Please tell me how I can help you?'),\n",
    "                   HumanMessage(content='I want to learn programming')]"
   ]
  },
  {
   "cell_type": "code",
   "execution_count": 27,
   "metadata": {},
   "outputs": [],
   "source": [
    "ai_message = [AIMessage(content='Which language you want to learn')]"
   ]
  },
  {
   "cell_type": "code",
   "execution_count": 28,
   "metadata": {},
   "outputs": [
    {
     "data": {
      "text/plain": [
       "[AIMessage(content='Please tell me how I can help you?', additional_kwargs={}, response_metadata={}, id='653619d9-bf15-4e56-9c79-1bc4d9da53e1'),\n",
       " HumanMessage(content='I want to learn programming', additional_kwargs={}, response_metadata={}, id='07d68565-897a-4e1f-b095-79701d8686cc'),\n",
       " AIMessage(content='Which language you want to learn', additional_kwargs={}, response_metadata={}, id='46dff3c3-ce6f-41b1-bc00-4f551ae3f9a9')]"
      ]
     },
     "execution_count": 28,
     "metadata": {},
     "output_type": "execute_result"
    }
   ],
   "source": [
    "add_messages(initial_message,ai_message)"
   ]
  },
  {
   "cell_type": "markdown",
   "metadata": {},
   "source": [
    "### Create a node "
   ]
  },
  {
   "cell_type": "code",
   "execution_count": 29,
   "metadata": {},
   "outputs": [],
   "source": [
    "def llm_tool(state:State):\n",
    "    return {'messages' : [llm_with_tools.invoke(state['messages'])]}"
   ]
  },
  {
   "cell_type": "markdown",
   "metadata": {},
   "source": [
    "### Build the Graph"
   ]
  },
  {
   "cell_type": "code",
   "execution_count": 30,
   "metadata": {},
   "outputs": [],
   "source": [
    "from langgraph.graph import START, END, StateGraph"
   ]
  },
  {
   "cell_type": "code",
   "execution_count": 31,
   "metadata": {},
   "outputs": [],
   "source": [
    "graph = StateGraph(State)"
   ]
  },
  {
   "cell_type": "code",
   "execution_count": 32,
   "metadata": {},
   "outputs": [
    {
     "data": {
      "text/plain": [
       "<langgraph.graph.state.StateGraph at 0x1f24a05a010>"
      ]
     },
     "execution_count": 32,
     "metadata": {},
     "output_type": "execute_result"
    }
   ],
   "source": [
    "graph.add_node(\"llm_tool\" , llm_tool)"
   ]
  },
  {
   "cell_type": "code",
   "execution_count": 33,
   "metadata": {},
   "outputs": [
    {
     "data": {
      "text/plain": [
       "<langgraph.graph.state.StateGraph at 0x1f24a05a010>"
      ]
     },
     "execution_count": 33,
     "metadata": {},
     "output_type": "execute_result"
    }
   ],
   "source": [
    "graph.add_edge(START , \"llm_tool\")\n",
    "graph.add_edge(\"llm_tool\" , END)"
   ]
  },
  {
   "cell_type": "code",
   "execution_count": 34,
   "metadata": {},
   "outputs": [],
   "source": [
    "graph_builder = graph.compile()"
   ]
  },
  {
   "cell_type": "code",
   "execution_count": 36,
   "metadata": {},
   "outputs": [],
   "source": [
    "from IPython.display import Image, display"
   ]
  },
  {
   "cell_type": "code",
   "execution_count": 37,
   "metadata": {},
   "outputs": [
    {
     "data": {
      "image/png": "[encoded data removed]",
      "text/plain": [
       "<IPython.core.display.Image object>"
      ]
     },
     "metadata": {},
     "output_type": "display_data"
    }
   ],
   "source": [
    "display(Image(graph_builder.get_graph().draw_mermaid_png()))"
   ]
  },
  {
   "cell_type": "code",
   "execution_count": 38,
   "metadata": {},
   "outputs": [
    {
     "data": {
      "text/plain": [
       "{'messages': [HumanMessage(content='Hi my name is Ankur. I like to train on Gen AI', additional_kwargs={}, response_metadata={}, id='ed9c2be6-41b6-472d-a66b-3ec706ba2e00'),\n",
       "  AIMessage(content=\"Hello Ankur! Nice to meet you. It's great that you're interested in training on Gen AI. How can I assist you in your learning journey? If you have any questions or need help with specific topics, feel free to ask!\", additional_kwargs={}, response_metadata={'token_usage': {'completion_tokens': 253, 'prompt_tokens': 162, 'total_tokens': 415, 'completion_time': 0.588666505, 'prompt_time': 0.011668106, 'queue_time': 0.263339064, 'total_time': 0.600334611}, 'model_name': 'qwen-qwq-32b', 'system_fingerprint': 'fp_a91d9c2cfb', 'finish_reason': 'stop', 'logprobs': None}, id='run--a19c15da-b3c8-49ce-9c9e-039615f9f296-0', usage_metadata={'input_tokens': 162, 'output_tokens': 253, 'total_tokens': 415})]}"
      ]
     },
     "execution_count": 38,
     "metadata": {},
     "output_type": "execute_result"
    }
   ],
   "source": [
    "graph_builder.invoke({'messages' : \"Hi my name is Ankur. I like to train on Gen AI\"})"
   ]
  },
  {
   "cell_type": "code",
   "execution_count": 39,
   "metadata": {},
   "outputs": [
    {
     "data": {
      "text/plain": [
       "{'messages': [HumanMessage(content='What is one plus one', additional_kwargs={}, response_metadata={}, id='0f76762d-fa10-4f13-9afe-4e5afafff76b'),\n",
       "  AIMessage(content='', additional_kwargs={'tool_calls': [{'id': 'tf6ph9d2y', 'function': {'arguments': '{\"a\":1,\"b\":1}', 'name': 'add'}, 'type': 'function'}]}, response_metadata={'token_usage': {'completion_tokens': 152, 'prompt_tokens': 153, 'total_tokens': 305, 'completion_time': 0.374369702, 'prompt_time': 0.01082999, 'queue_time': 0.246216936, 'total_time': 0.385199692}, 'model_name': 'qwen-qwq-32b', 'system_fingerprint': 'fp_98b01f25b2', 'finish_reason': 'tool_calls', 'logprobs': None}, id='run--35470894-3f68-4dd6-99f7-e276b3ae9094-0', tool_calls=[{'name': 'add', 'args': {'a': 1, 'b': 1}, 'id': 'tf6ph9d2y', 'type': 'tool_call'}], usage_metadata={'input_tokens': 153, 'output_tokens': 152, 'total_tokens': 305})]}"
      ]
     },
     "execution_count": 39,
     "metadata": {},
     "output_type": "execute_result"
    }
   ],
   "source": [
    "graph_builder.invoke({'messages' : \"What is one plus one\"})"
   ]
  },
  {
   "cell_type": "code",
   "execution_count": null,
   "metadata": {},
   "outputs": [],
   "source": []
  }
 ],
 "metadata": {
  "language_info": {
   "name": "python"
  }
 },
 "nbformat": 4,
 "nbformat_minor": 2
}
