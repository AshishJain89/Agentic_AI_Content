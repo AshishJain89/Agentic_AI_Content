{
 "cells": [
  {
   "cell_type": "markdown",
   "metadata": {},
   "source": [
    "### Building Chatbot with multiple tools using LangGraph"
   ]
  },
  {
   "cell_type": "markdown",
   "metadata": {},
   "source": [
    "Create a chatbot with tool capabilitie from arxiv, wiki search and some functions"
   ]
  },
  {
   "cell_type": "code",
   "execution_count": 1,
   "metadata": {},
   "outputs": [],
   "source": [
    "from langchain_community.tools import ArxivQueryRun , WikipediaQueryRun\n",
    "from langchain_community.utilities import WikipediaAPIWrapper , ArxivAPIWrapper"
   ]
  },
  {
   "cell_type": "code",
   "execution_count": 2,
   "metadata": {},
   "outputs": [
    {
     "name": "stdout",
     "output_type": "stream",
     "text": [
      "api_wrapper=ArxivAPIWrapper(arxiv_search=<class 'arxiv.Search'>, arxiv_exceptions=(<class 'arxiv.ArxivError'>, <class 'arxiv.UnexpectedEmptyPageError'>, <class 'arxiv.HTTPError'>), top_k_results=2, ARXIV_MAX_QUERY_LENGTH=300, continue_on_failure=False, load_max_docs=100, load_all_available_meta=False, doc_content_chars_max=500)\n"
     ]
    }
   ],
   "source": [
    "api_wrapper_arxiv = ArxivAPIWrapper(top_k_results=2, doc_content_chars_max=500)\n",
    "arxiv = ArxivQueryRun(api_wrapper=api_wrapper_arxiv)\n",
    "print(arxiv)"
   ]
  },
  {
   "cell_type": "code",
   "execution_count": 3,
   "metadata": {},
   "outputs": [
    {
     "data": {
      "text/plain": [
       "\"Published: 2024-07-22\\nTitle: Attention Is All You Need But You Don't Need All Of It For Inference of Large Language Models\\nAuthors: Georgy Tyukin, Gbetondji J-S Dovonon, Jean Kaddour, Pasquale Minervini\\nSummary: The inference demand for LLMs has skyrocketed in recent months, and serving\\nmodels with low latencies remains challenging due to the quadratic input length\\ncomplexity of the attention layers. In this work, we investigate the effect of\\ndropping MLP and attention layers at inference time o\""
      ]
     },
     "execution_count": 3,
     "metadata": {},
     "output_type": "execute_result"
    }
   ],
   "source": [
    "arxiv.invoke('Attention is all you need')\n",
    "    "
   ]
  },
  {
   "cell_type": "code",
   "execution_count": 4,
   "metadata": {},
   "outputs": [
    {
     "name": "stdout",
     "output_type": "stream",
     "text": [
      "wikipedia\n"
     ]
    }
   ],
   "source": [
    "api_wrapper_wiki = WikipediaAPIWrapper(top_k_results=1, doc_content_chars_max=500)\n",
    "wiki = WikipediaQueryRun(api_wrapper=api_wrapper_wiki)\n",
    "print(wiki.name)"
   ]
  },
  {
   "cell_type": "code",
   "execution_count": 5,
   "metadata": {},
   "outputs": [
    {
     "data": {
      "text/plain": [
       "True"
      ]
     },
     "execution_count": 5,
     "metadata": {},
     "output_type": "execute_result"
    }
   ],
   "source": [
    "from dotenv import load_dotenv\n",
    "load_dotenv()"
   ]
  },
  {
   "cell_type": "code",
   "execution_count": 6,
   "metadata": {},
   "outputs": [],
   "source": [
    "import os\n",
    "TAVILY_API_KEY = os.getenv('TAVILY_API_KEY')\n",
    "GROQ_API_KEY = os.getenv('GROQ_API_KEY')\n"
   ]
  },
  {
   "cell_type": "code",
   "execution_count": 7,
   "metadata": {},
   "outputs": [
    {
     "data": {
      "text/plain": [
       "'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'"
      ]
     },
     "execution_count": 7,
     "metadata": {},
     "output_type": "execute_result"
    }
   ],
   "source": [
    "TAVILY_API_KEY"
   ]
  },
  {
   "cell_type": "code",
   "execution_count": 8,
   "metadata": {},
   "outputs": [
    {
     "name": "stderr",
     "output_type": "stream",
     "text": [
      "C:\\Users\\Admin\\AppData\\Local\\Temp\\ipykernel_7176\\2366916144.py:5: LangChainDeprecationWarning: The class `TavilySearchResults` was deprecated in LangChain 0.3.25 and will be removed in 1.0. An updated version of the class exists in the :class:`~langchain-tavily package and should be used instead. To use it run `pip install -U :class:`~langchain-tavily` and import as `from :class:`~langchain_tavily import TavilySearch``.\n",
      "  tavily = TavilySearchResults()\n"
     ]
    }
   ],
   "source": [
    "#### Tavily Search Tool\n",
    "\n",
    "from langchain_community.tools.tavily_search import TavilySearchResults\n",
    "\n",
    "tavily = TavilySearchResults()"
   ]
  },
  {
   "cell_type": "code",
   "execution_count": 9,
   "metadata": {},
   "outputs": [
    {
     "data": {
      "text/plain": [
       "[{'title': 'Latest AI Breakthroughs and News: May-June 2025 - Crescendo.ai',\n",
       "  'url': 'https://www.crescendo.ai/news/latest-ai-news-and-updates',\n",
       "  'content': '**Date:** June 1, 2025  \\n**Summary:** Ukraine reportedly used AI-enhanced drone swarms in a covert mission dubbed â\\x80\\x9cOperation Spider Webâ\\x80\\x9d to target a Russian bomber. The drones, said to cost as little as the price of an iPhone 16 Pro, represent a new phase of low-cost autonomous warfare. [...] **Date:** June 20, 2025  \\n**Summary:** A Gallup report shows that AI usage in the workplace has nearly doubled in the U.S. over two years. Employee AI use rose from 21% to 40%, with daily users doubling from 4% to 8%. Weekly AI usage also jumped from 11% to 19%, highlighting rapid adoption. The trend reflects increasing reliance on AI for productivity, analysis, and customer service.  \\n**Source:** [NewsNationNow](https://www.newsnationnow.com/business/ai-use-employees-doubles-report/) [...] **Date:** June 20, 2025  \\n**Summary:** Apple is facing a class-action lawsuit from shareholders who claim the company overstated its progress in AI development. The complaint highlights misleading statements around Siriâ\\x80\\x99s capabilities and Appleâ\\x80\\x99s overall AI roadmap. Investors allege the exaggerated claims negatively affected iPhone sales and stock performance. The case marks growing scrutiny of how tech companies communicate AI advancements.',\n",
       "  'score': 0.8619225}]"
      ]
     },
     "execution_count": 9,
     "metadata": {},
     "output_type": "execute_result"
    }
   ],
   "source": [
    "tavily.invoke('Provide me latest AI news')"
   ]
  },
  {
   "cell_type": "code",
   "execution_count": 13,
   "metadata": {},
   "outputs": [],
   "source": [
    "### Combine all the tools to create a toolkit\n",
    "\n",
    "tools = [arxiv , wiki, tavily]"
   ]
  },
  {
   "cell_type": "code",
   "execution_count": 14,
   "metadata": {},
   "outputs": [],
   "source": [
    "### INitialize my LLM model\n",
    "\n",
    "from langchain_groq import ChatGroq\n",
    "llm = ChatGroq(model='qwen-qwq-32b')\n",
    "llm_with_tools = llm.bind_tools(tools)"
   ]
  },
  {
   "cell_type": "code",
   "execution_count": 15,
   "metadata": {},
   "outputs": [
    {
     "data": {
      "text/plain": [
       "AIMessage(content='', additional_kwargs={'tool_calls': [{'id': 'ja3c2q5te', 'function': {'arguments': '{\"query\":\"recent AI news\"}', 'name': 'tavily_search_results_json'}, 'type': 'function'}]}, response_metadata={'token_usage': {'completion_tokens': 188, 'prompt_tokens': 267, 'total_tokens': 455, 'completion_time': 0.432236851, 'prompt_time': 0.01747833, 'queue_time': 0.28622026500000003, 'total_time': 0.449715181}, 'model_name': 'qwen-qwq-32b', 'system_fingerprint': 'fp_28178d7ff6', 'finish_reason': 'tool_calls', 'logprobs': None}, id='run--c890d9fd-551b-49da-80ee-1dadc328bb1f-0', tool_calls=[{'name': 'tavily_search_results_json', 'args': {'query': 'recent AI news'}, 'id': 'ja3c2q5te', 'type': 'tool_call'}], usage_metadata={'input_tokens': 267, 'output_tokens': 188, 'total_tokens': 455})"
      ]
     },
     "execution_count": 15,
     "metadata": {},
     "output_type": "execute_result"
    }
   ],
   "source": [
    "from langchain_core.messages import HumanMessage , AIMessage\n",
    "llm_with_tools.invoke([HumanMessage(content='What is recent AI news')])"
   ]
  },
  {
   "cell_type": "code",
   "execution_count": 32,
   "metadata": {},
   "outputs": [
    {
     "data": {
      "text/plain": [
       "AIMessage(content='\\n<think>\\nOkay, so I need to figure out the top 5 machine learning libraries. Let me start by recalling what I know about ML libraries. I remember that Python is widely used in machine learning, so most of the popular libraries are probably Python-based. Let me start listing some libraries I\\'ve heard of.\\n\\nFirst, Scikit-learn comes to mind. I think it\\'s a fundamental library for machine learning with a lot of algorithms like regression, classification, clustering. Maybe that\\'s one of the top ones.\\n\\nThen there\\'s TensorFlow. Oh wait, TensorFlow is more of a framework, right? But people often refer to it as a library. It\\'s used for building neural networks and deep learning models, developed by Google. Definitely a big name.\\n\\nPyTorch is another one. I\\'ve heard it\\'s gaining popularity because of its dynamic computation graph and ease of use. It\\'s also a deep learning framework by Facebook (Meta now). So maybe that\\'s another top library.\\n\\nWait, are there others? Oh right, Keras. It\\'s a high-level neural networks API, and I think it can run on top of TensorFlow, but it\\'s also a library. Some people might consider it separate.\\n\\nThen there\\'s MXNet, but I\\'m not sure if it\\'s in the top 5. Maybe Caffe is another, but I think those are a bit older. Wait, maybe Theano? No, I think Theano is less used now. \\n\\nWait, what about libraries like Pandas and NumPy? They are more for data manipulation and numerical computing, but they are essential for ML. But the question says ML libraries specifically, so maybe those are more foundational. Let me check the question again. The user asked for top 5 ML libraries, so maybe they expect the main ones used for building models and not just data handling.\\n\\nHmm, so maybe the top 5 are Scikit-learn, TensorFlow, PyTorch, Keras, and then maybe XGBoost? Or maybe Theano? Or maybe something else like LightGBM? Wait, XGBoost is a gradient boosting library, which is very popular for structured data. But it\\'s more of a specialized library. \\n\\nAlternatively, maybe the top 5 include some deep learning frameworks and some general ML libraries. Let me think again. Scikit-learn is definitely top. Then TensorFlow and PyTorch are the big two for deep learning. Keras is often used with TensorFlow, but maybe it\\'s considered a separate library. Then maybe the fifth could be something like PyTorch Lightning, but that\\'s more of a tool for PyTorch. \\n\\nWait, perhaps I should consider the main ones that are most commonly used in practice. Let me think of what\\'s popular in the community. \\n\\nAnother possibility is Theano, but I think it\\'s been less used since TensorFlow and PyTorch became more popular. \\n\\nAlternatively, maybe the top 5 are:\\n\\n1. Scikit-learn\\n2. TensorFlow\\n3. PyTorch\\n4. Keras\\n5. XGBoost\\n\\nOr maybe MXNet? Not sure. Alternatively, maybe the fifth is PyTorch Lightning? Hmm, but I think XGBoost is more widely used for traditional ML. \\n\\nWait, let me think again. The top libraries in terms of usage and popularity. Scikit-learn is definitely a staple for classical ML. TensorFlow and PyTorch are the main deep learning libraries. Keras is sometimes listed separately because it\\'s user-friendly, but it\\'s now integrated into TensorFlow. So maybe not. \\n\\nAlternatively, maybe the top 5 are:\\n\\n1. Scikit-learn\\n2. TensorFlow\\n3. PyTorch\\n4. XGBoost\\n5. Keras\\n\\nAlternatively, maybe the fifth is Theano? But I\\'m not sure. Wait, maybe there are other important ones like Theano, CNTK, etc., but I think the top 5 would be the ones I mentioned first. \\n\\nAlternatively, maybe I\\'m missing something else. Like, what about MXNet? It\\'s used by AWS, but I\\'m not sure if it\\'s top 5. \\n\\nHmm. Alternatively, let me check some sources. Wait, since I can\\'t look it up, I have to go with my memory. \\n\\nWait, also, there\\'s a library called Fast.ai, which is built on top of PyTorch, but it\\'s more of a high-level library for deep learning. But maybe it\\'s not in the top 5. \\n\\nAlternatively, maybe the top 5 are Scikit-learn, TensorFlow, PyTorch, Keras, and maybe MXNet. \\n\\nAlternatively, maybe the user is looking for the most popular ones. I think the standard answer would include Scikit-learn, TensorFlow, PyTorch, Keras, and maybe XGBoost. \\n\\nAlternatively, maybe Caffe is still considered, but I think it\\'s less popular now. \\n\\nWait, let me think of the order of popularity. Scikit-learn is definitely top. Then TensorFlow and PyTorch are the two main deep learning frameworks. Keras is a wrapper for TensorFlow, but maybe listed as a separate library. Then perhaps XGBoost for gradient boosting. \\n\\nAlternatively, maybe the fifth is Theano, but I think Theano\\'s usage has declined. \\n\\nAlternatively, maybe the fifth is something like Theano, but I\\'m not sure. \\n\\nWait, I\\'ve also heard of PyTorch\\'s Lightning, but that\\'s a tool to simplify training. \\n\\nHmm, perhaps the fifth is XGBoost. So the top 5 would be:\\n\\n1. Scikit-learn\\n2. TensorFlow\\n3. PyTorch\\n4. Keras (though integrated into TF now)\\n5. XGBoost\\n\\nAlternatively, maybe Theano is replaced by something else. \\n\\nAlternatively, maybe MXNet, but I think in the current landscape, Scikit-learn, TensorFlow, PyTorch, Keras, and XGBoost are the top 5. \\n\\nAlternatively, maybe the user wants only deep learning libraries, but the question is about ML libraries in general. So Scikit-learn is for classical ML, and the others are for deep learning. \\n\\nAlternatively, maybe the top 5 are:\\n\\n1. Scikit-learn\\n2. TensorFlow\\n3. PyTorch\\n4. XGBoost\\n5. Keras\\n\\nAlternatively, maybe the fifth is Theano, but I\\'m not sure. \\n\\nWait, another possibility is that the user considers libraries like MXNet or CNTK, but I think those are less common now. \\n\\nAlternatively, the top 5 are Scikit-learn, TensorFlow, PyTorch, Theano, and Keras. Hmm, maybe not. \\n\\nAlternatively, maybe the fifth is LightGBM, which is another gradient boosting library. But I think XGBoost is more popular. \\n\\nAlternatively, maybe the user wants to include libraries like JAX, but that\\'s more recent and maybe not as top 5 yet. \\n\\nAlternatively, maybe the top 5 are:\\n\\n1. Scikit-learn\\n2. TensorFlow\\n3. PyTorch\\n4. XGBoost\\n5. Keras\\n\\nAlternatively, maybe the user wants to include Theano, but I think Keras is more commonly listed. \\n\\nAlternatively, maybe the fifth is Theano, but I\\'m not sure. \\n\\nAlternatively, maybe it\\'s better to list the top 5 as Scikit-learn, TensorFlow, PyTorch, Keras, and XGBoost. \\n\\nAlternatively, maybe instead of Keras, MXNet or Caffe2? Hmm. \\n\\nAlternatively, looking at the Stack Overflow survey or other sources, the most popular libraries. From what I recall, Scikit-learn, TensorFlow, PyTorch are definitely top 3. Then XGBoost, Keras, and maybe Theano is less so. \\n\\nAlternatively, maybe the fifth is Theano, but maybe not. Alternatively, maybe the top 5 are those four plus Theano, but I\\'m not sure. \\n\\nAlternatively, maybe the user wants to include a library like Pandas or NumPy, but those are more for data handling rather than ML itself. \\n\\nI think the standard answer would include Scikit-learn, TensorFlow, PyTorch, Keras, and XGBoost. Alternatively, maybe instead of Keras, MXNet or something else. But I think Keras is still widely used, even though it\\'s part of TensorFlow now. \\n\\nAlternatively, maybe Caffe is another, but I think it\\'s less common now. \\n\\nHmm, I think the safest list would be:\\n\\n1. Scikit-learn\\n2. TensorFlow\\n3. PyTorch\\n4. XGBoost\\n5. Keras\\n\\nAlternatively, maybe Theano is there instead of Keras? Not sure. \\n\\nAlternatively, maybe the fifth is MXNet or CNTK, but I think Keras is more popular. \\n\\nAlternatively, perhaps the top five are:\\n\\n1. Scikit-learn\\n2. TensorFlow\\n3. PyTorch\\n4. Keras\\n5. XGBoost\\n\\nThat seems plausible. \\n\\nAlternatively, maybe the order is different. Let me check in my mind. \\n\\nScikit-learn is for classical ML. TensorFlow and PyTorch are the main deep learning ones. XGBoost is a top library for gradient boosting trees. Keras is a high-level API for neural networks, now part of TensorFlow, but still a major tool. \\n\\nSo putting it all together, the top 5 would be those. \\n\\nAlternatively, maybe the fifth is Theano? But I think XGBoost is more popular. \\n\\nAlternatively, maybe the top 5 are:\\n\\n1. Scikit-learn\\n2. TensorFlow\\n3. PyTorch\\n4. Keras\\n5. XGBoost\\n\\nAlternatively, maybe Theano instead of Keras? But Keras is more used. \\n\\nAlternatively, maybe the fifth is a framework like CNTK? Probably not. \\n\\nAlternatively, maybe the user wants to include something else. \\n\\nAlternatively, maybe the top 5 are Scikit-learn, TensorFlow, PyTorch, Theano, and MXNet. Hmm, but I think XGBoost is more popular in ML competitions. \\n\\nAlternatively, maybe the fifth is LightGBM, but not sure. \\n\\nWell, I think the most common answer would be the ones that are most frequently mentioned. So I\\'ll go with Scikit-learn, TensorFlow, PyTorch, Keras, and XGBoost. Or maybe Theano? Hmm, but Keras is more of a high-level API. \\n\\nAlternatively, maybe the user is considering only deep learning libraries for the top 5, but since the question is ML libraries, not deep learning, so Scikit-learn counts. \\n\\nAlternatively, let me think of another angle. The user asked for \"top 5 ML libraries used\", so probably the most widely used in the community. According to surveys and usage statistics, Scikit-learn, TensorFlow, PyTorch, XGBoost, and Keras. \\n\\nAlternatively, maybe the answer includes MXNet, but I\\'m not sure. \\n\\nAlternatively, maybe the fifth is Theano, but perhaps not. \\n\\nAlternatively, maybe the fifth is a library like Theano, but I think XGBoost is more prominent these days. \\n\\nOkay, I think I should list them as:\\n\\n1. Scikit-learn\\n2. TensorFlow\\n3. PyTorch\\n4. XGBoost\\n5. Keras\\n\\nAlternatively, maybe Theano is there, but I\\'m not sure. \\n\\nAlternatively, maybe the user wants to include Theano, but I think Keras is more commonly listed. \\n\\nAlternatively, maybe the fifth is Theano, but I\\'m not sure. \\n\\nAlternatively, maybe the correct answer includes Theano in the list, but I think Keras is more often cited. \\n\\nAlternatively, perhaps the fifth is LightGBM, but I think XGBoost is more established. \\n\\nI think I\\'ll go with the first four and include XGBoost as the fifth. \\n\\nWait, but Keras is a library, so perhaps the top five are:\\n\\n1. Scikit-learn\\n2. TensorFlow\\n3. PyTorch\\n4. XGBoost\\n5. Keras\\n\\nAlternatively, maybe the fifth is something else. \\n\\nAlternatively, maybe the fifth is a library like Theano, but I\\'m not sure. \\n\\nAlternatively, maybe the fifth is MXNet, but I think it\\'s less popular. \\n\\nAlternatively, perhaps the fifth is Theano, but I\\'m not sure. \\n\\nAlternatively, maybe the user expects Theano to be in the list, but given current trends, perhaps it\\'s not. \\n\\nAlternatively, maybe the answer includes Theano, but I think XGBoost and Keras are more relevant. \\n\\nAlternatively, perhaps the fifth is a library like CNTK. Hmm, perhaps not. \\n\\nAlternatively, maybe the top five are Scikit-learn, TensorFlow, PyTorch, Keras, and XGBoost. \\n\\nAlternatively, maybe the answer is different. But I think that\\'s a reasonable list. \\n\\nAlternatively, I can think of another approach. Let\\'s start from the top:\\n\\nScikit-learn is definitely #1 for classical ML. \\n\\nFor deep learning, the top two are TensorFlow and PyTorch. \\n\\nThen maybe Keras, but since it\\'s now part of TensorFlow, but still widely used. \\n\\nThe fifth could be XGBoost, which is a must-have for structured data. \\n\\nAlternatively, maybe the user wants to include Theano, but perhaps not. \\n\\nAlternatively, maybe the fifth is Microsoft\\'s CNTK, but not sure. \\n\\nAlternatively, maybe it\\'s better to list the top 5 as the most famous ones. \\n\\nAlternatively, according to some sources, the top 5 are:\\n\\n1. Scikit-learn\\n2. TensorFlow\\n3. PyTorch\\n4. Keras\\n5. XGBoost\\n\\nAlternatively, some sources may include Theano or Caffe, but I think Keras and XGBoost are more relevant. \\n\\nSo I\\'ll go with that list, but I should also mention what each is used for. \\n\\nWait, the user just asked for the top 5 ML libraries used, so maybe the answer includes those five. \\n\\nAlternatively, maybe the fifth is something like MXNet, but I think XGBoost is more popular. \\n\\nAlternatively, maybe the fifth is Theano? Not sure. \\n\\nI think I\\'ll settle on Scikit-learn, TensorFlow, PyTorch, XGBoost, and Keras as the top five. \\n\\nAlternatively, maybe the top five include Theano, but I think Keras is more popular these days. \\n\\nAlternatively, perhaps the answer is:\\n\\n1. Scikit-learn\\n2. TensorFlow\\n3. PyTorch\\n4. XGBoost\\n5. Keras\\n\\nAlternatively, I think that\\'s a common answer. \\n\\nAlternatively, maybe there\\'s another. \\n\\nAlternatively, maybe the top five are the following, but I think that\\'s correct.\\n</think>\\n\\nHere are the top 5 machine learning libraries based on popularity, usage, and versatility in the field:\\n\\n---\\n\\n### **1. Scikit-learn**  \\n- **Primary Use**: Classical machine learning algorithms (e.g., regression, classification, clustering, preprocessing).  \\n- **Features**: Implements algorithms like SVM, decision trees, linear models, and pipelines for data preprocessing.  \\n- **Language**: Python.\\n\\n---\\n\\n### **2. TensorFlow**  \\n- **Primary Use**: Deep learning and neural networks.  \\n- **Features**: Provides Keras (a user-friendly API) for building, training, and deploying ML models. Supports distributed training and production deployment.  \\n- **Language**: Python (with C++/CUDA backend).\\n\\n---\\n\\n### **3. PyTorch**  \\n- **Primary Use**: Deep learning and research-oriented projects.  \\n- **Features**: Dynamic computation graphs (e.g., for RNNs), efficient GPU acceleration, and a focus on flexibility.  \\n- **Language**: Python.\\n\\n---\\n\\n### **4. XGBoost**  \\n- **Primary Use**: Gradient-boosted decision trees for structured/tabular data.  \\n- **Features**: High performance, scalability, and winning solution for many Kaggle competitions.  \\n- **Language**: Python (with C++ backend).\\n\\n---\\n\\n### **5. Keras**  \\n- **Primary Use**: High-level API for building neural networks.  \\n- **Features**: User-friendly, modular, and integrates with TensorFlow (now part of TensorFlow 2.x).  \\n- **Language**: Python.  \\n\\n---\\n\\n### **Honorable Mentions**:  \\n- **TensorFlow Lite** (for mobile/edge ML).  \\n- **LightGBM** (similar to XGBoost but optimized for large datasets.  \\n- **Pandas/NumPy** (data manipulation/data science tools, not strictly ML but foundational.  \\n\\nLet me know if you\\'d like a deeper dive into any of these!', additional_kwargs={}, response_metadata={'token_usage': {'completion_tokens': 3515, 'prompt_tokens': 18, 'total_tokens': 3533, 'completion_time': 8.542571686, 'prompt_time': 0.003128698, 'queue_time': 0.257051281, 'total_time': 8.545700384}, 'model_name': 'qwen-qwq-32b', 'system_fingerprint': 'fp_1e88ca32eb', 'finish_reason': 'stop', 'logprobs': None}, id='run--ee421b2c-d594-45c4-a4e1-2e5b0c4b6301-0', usage_metadata={'input_tokens': 18, 'output_tokens': 3515, 'total_tokens': 3533})"
      ]
     },
     "execution_count": 32,
     "metadata": {},
     "output_type": "execute_result"
    }
   ],
   "source": [
    "llm.invoke('Give me top 5 ML libraries used')"
   ]
  },
  {
   "cell_type": "markdown",
   "metadata": {},
   "source": [
    "We will build the chatbot using LangGraph"
   ]
  },
  {
   "cell_type": "code",
   "execution_count": 16,
   "metadata": {},
   "outputs": [],
   "source": [
    "### Creating State Schema\n",
    "\n",
    "from typing_extensions import TypedDict\n",
    "from langchain_core.messages import AnyMessage\n",
    "from typing import Annotated\n",
    "from langgraph.graph.message import add_messages\n"
   ]
  },
  {
   "cell_type": "code",
   "execution_count": 19,
   "metadata": {},
   "outputs": [],
   "source": [
    "class State(TypedDict):\n",
    "    messages : Annotated[list[AnyMessage] , add_messages]"
   ]
  },
  {
   "cell_type": "code",
   "execution_count": 23,
   "metadata": {},
   "outputs": [],
   "source": [
    "### Create Nodes \n",
    "\n",
    "def tool_calling_llm(state : State):\n",
    "    return {'messages' : [llm_with_tools.invoke(state['messages'])]}\n",
    "\n"
   ]
  },
  {
   "cell_type": "code",
   "execution_count": 21,
   "metadata": {},
   "outputs": [],
   "source": [
    "### Building the Graph\n",
    "\n",
    "from IPython.display import Image , display\n",
    "from langgraph.graph import START , END , StateGraph\n",
    "from langgraph.prebuilt import ToolNode\n",
    "from langgraph.prebuilt import tools_condition"
   ]
  },
  {
   "cell_type": "code",
   "execution_count": 22,
   "metadata": {},
   "outputs": [],
   "source": [
    "builder = StateGraph(State)"
   ]
  },
  {
   "cell_type": "code",
   "execution_count": 24,
   "metadata": {},
   "outputs": [
    {
     "data": {
      "text/plain": [
       "<langgraph.graph.state.StateGraph at 0x14f6d588dd0>"
      ]
     },
     "execution_count": 24,
     "metadata": {},
     "output_type": "execute_result"
    }
   ],
   "source": [
    "builder.add_node('tool_calling_llm' , tool_calling_llm)"
   ]
  },
  {
   "cell_type": "code",
   "execution_count": 25,
   "metadata": {},
   "outputs": [
    {
     "data": {
      "text/plain": [
       "<langgraph.graph.state.StateGraph at 0x14f6d588dd0>"
      ]
     },
     "execution_count": 25,
     "metadata": {},
     "output_type": "execute_result"
    }
   ],
   "source": [
    "builder.add_node('tools' , ToolNode(tools))"
   ]
  },
  {
   "cell_type": "code",
   "execution_count": 26,
   "metadata": {},
   "outputs": [
    {
     "data": {
      "text/plain": [
       "<langgraph.graph.state.StateGraph at 0x14f6d588dd0>"
      ]
     },
     "execution_count": 26,
     "metadata": {},
     "output_type": "execute_result"
    }
   ],
   "source": [
    "### Adding the edges\n",
    "\n",
    "builder.add_edge(START , 'tool_calling_llm')"
   ]
  },
  {
   "cell_type": "code",
   "execution_count": 27,
   "metadata": {},
   "outputs": [
    {
     "data": {
      "text/plain": [
       "<langgraph.graph.state.StateGraph at 0x14f6d588dd0>"
      ]
     },
     "execution_count": 27,
     "metadata": {},
     "output_type": "execute_result"
    }
   ],
   "source": [
    "builder.add_conditional_edges('tool_calling_llm' , tools_condition)"
   ]
  },
  {
   "cell_type": "code",
   "execution_count": 28,
   "metadata": {},
   "outputs": [
    {
     "data": {
      "text/plain": [
       "<langgraph.graph.state.StateGraph at 0x14f6d588dd0>"
      ]
     },
     "execution_count": 28,
     "metadata": {},
     "output_type": "execute_result"
    }
   ],
   "source": [
    "builder.add_edge('tools' , END)"
   ]
  },
  {
   "cell_type": "code",
   "execution_count": 29,
   "metadata": {},
   "outputs": [],
   "source": [
    "### Compile\n",
    "\n",
    "graph = builder.compile()"
   ]
  },
  {
   "cell_type": "code",
   "execution_count": 30,
   "metadata": {},
   "outputs": [
    {
     "data": {
      "image/png": "[encoded data removed]",
      "text/plain": [
       "<IPython.core.display.Image object>"
      ]
     },
     "metadata": {},
     "output_type": "display_data"
    }
   ],
   "source": [
    "### Display\n",
    "\n",
    "display(Image(graph.get_graph().draw_mermaid_png()))"
   ]
  },
  {
   "cell_type": "code",
   "execution_count": 33,
   "metadata": {},
   "outputs": [
    {
     "data": {
      "text/plain": [
       "{'messages': [HumanMessage(content='Give me 5 beautiful destinations in world', additional_kwargs={}, response_metadata={}, id='3d478cb9-6e3f-471f-8607-84c1e2aa36df'),\n",
       "  AIMessage(content='', additional_kwargs={'tool_calls': [{'id': 'v9cnyzmbq', 'function': {'arguments': '{\"query\":\"top 5 most beautiful destinations in the world\"}', 'name': 'tavily_search_results_json'}, 'type': 'function'}]}, response_metadata={'token_usage': {'completion_tokens': 206, 'prompt_tokens': 270, 'total_tokens': 476, 'completion_time': 0.506203587, 'prompt_time': 0.020773537, 'queue_time': 0.254125712, 'total_time': 0.526977124}, 'model_name': 'qwen-qwq-32b', 'system_fingerprint': 'fp_1e88ca32eb', 'finish_reason': 'tool_calls', 'logprobs': None}, id='run--60ac02e9-af38-4e99-a7f2-79e35dc124df-0', tool_calls=[{'name': 'tavily_search_results_json', 'args': {'query': 'top 5 most beautiful destinations in the world'}, 'id': 'v9cnyzmbq', 'type': 'tool_call'}], usage_metadata={'input_tokens': 270, 'output_tokens': 206, 'total_tokens': 476}),\n",
       "  ToolMessage(content='[{\"title\": \"What are your top 5 of the most beautiful places on Earth that no one ...\", \"url\": \"https://www.quora.com/What-are-your-top-5-of-the-most-beautiful-places-on-Earth-that-no-one-thinks-about-include-pics\", \"content\": \"Briksdal Glacier, Norway · Bromo volcano, Indonesia · Rapa river delta, Lapland, Sweden · Shinto Gates, Kyoto, Japan · Tsingy de Bemaraha.\", \"score\": 0.7672197}, {\"title\": \"The World\\'s 44 Most Beautiful Places - Time Out\", \"url\": \"https://www.timeout.com/travel/worlds-most-beautiful-places\", \"content\": \"## The world’s most beautiful places\\\\n\\\\n### 1.\\xa0Komodo National Park, Indonesia\\\\n\\\\n![Komodo National Park, Indonesia](https://media.timeout.com/images/106257912/750/422/image.jpg \\\\\"Komodo National Park, Indonesia\\\\\")\\\\n![Komodo National Park, Indonesia](https://media.timeout.com/images/106257912/750/562/image.jpg \\\\\"Komodo National Park, Indonesia\\\\\") [...] **Time Out tip:** It’s easy to get swept along with walking tours, but it’s best to take your time and study the details. Get an audio guide (they come with the entrance fee), take a seat and\\xa0let yourself be awed.\\\\n\\\\n![Grace Beard](https://media.timeout.com/images/106137956/170/170/image.jpg)\\\\n\\\\n### 5.\\xa0Disko Island, Greenland [...] ![Antonia Windsor](https://media.timeout.com/images/106033286/170/170/image.jpg)\\\\n\\\\n### 10.\\xa0Hà Giang, Vietnam\\\\n\\\\n![Hà Giang, Vietnam](https://media.timeout.com/images/106257907/750/422/image.jpg \\\\\"Hà Giang, Vietnam\\\\\")\\\\n![Hà Giang, Vietnam](https://media.timeout.com/images/106257907/750/562/image.jpg \\\\\"Hà Giang, Vietnam\\\\\")\", \"score\": 0.7570233}, {\"title\": \"The 71 most beautiful places in the world in 2025 | CN Traveller\", \"url\": \"https://www.cntraveller.com/gallery/most-beautiful-places-in-the-world\", \"content\": \"A destination that needs no introduction – the Great Barrier Reef has long topped lists of the world\\'s most beautiful places. It\\'s the world\\'s largest coral reef system, sprawling out across more than 2,000 kilometres. It goes without saying that trips here need to be taken with caution – over the past few decades, the impact of tourism and climate change has been felt dramatically. [...] Ask a travel editor to name the most beautiful place in the world, and you\\'ll be in for a long, long answer. Ask anyone, for that matter – it\\'s a tricky question with more than one answer. On a planet home to flamingo-pink lakes in [Mexico](https://www.cntraveller.com/gallery/best-hotels-mexico), vast multi-coloured hills in the USA, green ripples of rice paddies in Indonesia and epic icescapes in Antarctica, it\\'s hard to choose a favourite. The answer also depends on personal preference – [...] Stretching over eight countries – France, [Switzerland](https://www.cntraveller.com/article/best-time-to-visit-switzerland), Monaco, [Italy](https://www.cntraveller.com/location/italy), Liechtenstein, Austria, Germany and Slovenia – the Alps are the most extensive mountain range in Europe. It has some of the greatest skiing in the world with popular towns including Chamonix-Mont-Blanc (the highest mountain), Lech, Gstaad and [Courchevel](https://www.cntraveller.com/article/courchevel-hotels).\", \"score\": 0.72465646}, {\"title\": \"57 Most Beautiful Places in the World | Condé Nast Traveler\", \"url\": \"https://www.cntraveler.com/galleries/2015-11-27/the-50-most-beautiful-places-in-the-world\", \"content\": \"[beach](https://www.cntraveler.com/the-best-beaches-in-the-world), [forest](https://www.cntraveler.com/gallery/the-most-beautiful-forests-in-the-world), or [national park](https://www.cntraveler.com/gallery/best-national-parks-usa) below. [...] While you could occupy a lifetime curating your list of Mother Nature\\'s greatest hits, we\\'ve shaved off some years for you by gathering the 57 most beautiful places in the world we think take the top spots. From the [White Continent](https://www.cntraveler.com/story/an-arctic-dogsledder-takes-on-challenging-new-terrain-antarctica) to the [Grand Canyon](https://www.cntraveler.com/story/grand-canyon-national-park), find your next favorite [...] ![Most Beautiful Places in the World Mt. Fuji](https://media.cntraveler.com/photos/60596b398f4452dac88c59f8/master/w_320%2Cc_limit/MtFuji-GettyImages-959111140.jpg)\\\\n\\\\n## Mount Fuji, Japan\", \"score\": 0.7156829}, {\"title\": \"The 30 Most Beautiful Places in the World You Need to Visit\", \"url\": \"https://www.luxurygold.com/lg/most-beautiful-places-in-the-world/\", \"content\": \"# [The 30 Most Beautiful Places in the World You Need to Visit](https://www.luxurygold.com/lg/most-beautiful-places-in-the-world/ \\\\\"Permanent Link to The 30 Most Beautiful Places in the World You Need to Visit\\\\\")\\\\n\\\\n![The Great Barrier Reef, Australia](https://www.luxurygold.com/lg/wp-content/uploads/2024/08/ishan-seefromthesky-uxhmO7BumvA-unsplash-1160x770.jpg) [...] ![The Great Barrier Reef, Australia](https://www.luxurygold.com/lg/wp-content/uploads/2024/08/ishan-seefromthesky-uxhmO7BumvA-unsplash-1024x767.jpg)\\\\n\\\\nThe Great Barrier Reef, Australia\\\\n\\\\n## \\\\n\\\\n## Machu Picchu, Peru [...] ![Machu Picchu, Peru](https://www.luxurygold.com/lg/wp-content/uploads/2024/08/denisse-leon-8hMPBN1yeEw-unsplash-1024x683.jpg)\\\\n\\\\nMachu Picchu, Peru\\\\n\\\\n## \\\\n\\\\n## Pamukkale, Turkey\\\\n\\\\nThis western Turkish town is famous for its natural white travertine terraces, their scoops of natural pools filled by nourishing hot springs. Their gleaming white frame makes the pools an exquisite, luminous ice-blue. Visit on a day-trip from Marmaris or Dalaman on the coast.\", \"score\": 0.67063034}]', name='tavily_search_results_json', id='dc68935e-1a1e-4779-ad46-bb2c0e3cda39', tool_call_id='v9cnyzmbq', artifact={'query': 'top 5 most beautiful destinations in the world', 'follow_up_questions': None, 'answer': None, 'images': [], 'results': [{'url': 'https://www.quora.com/What-are-your-top-5-of-the-most-beautiful-places-on-Earth-that-no-one-thinks-about-include-pics', 'title': 'What are your top 5 of the most beautiful places on Earth that no one ...', 'content': 'Briksdal Glacier, Norway · Bromo volcano, Indonesia · Rapa river delta, Lapland, Sweden · Shinto Gates, Kyoto, Japan · Tsingy de Bemaraha.', 'score': 0.7672197, 'raw_content': None}, {'url': 'https://www.timeout.com/travel/worlds-most-beautiful-places', 'title': \"The World's 44 Most Beautiful Places - Time Out\", 'content': '## The world’s most beautiful places\\n\\n### 1.\\xa0Komodo National Park, Indonesia\\n\\n![Komodo National Park, Indonesia](https://media.timeout.com/images/106257912/750/422/image.jpg \"Komodo National Park, Indonesia\")\\n![Komodo National Park, Indonesia](https://media.timeout.com/images/106257912/750/562/image.jpg \"Komodo National Park, Indonesia\") [...] **Time Out tip:** It’s easy to get swept along with walking tours, but it’s best to take your time and study the details. Get an audio guide (they come with the entrance fee), take a seat and\\xa0let yourself be awed.\\n\\n![Grace Beard](https://media.timeout.com/images/106137956/170/170/image.jpg)\\n\\n### 5.\\xa0Disko Island, Greenland [...] ![Antonia Windsor](https://media.timeout.com/images/106033286/170/170/image.jpg)\\n\\n### 10.\\xa0Hà Giang, Vietnam\\n\\n![Hà Giang, Vietnam](https://media.timeout.com/images/106257907/750/422/image.jpg \"Hà Giang, Vietnam\")\\n![Hà Giang, Vietnam](https://media.timeout.com/images/106257907/750/562/image.jpg \"Hà Giang, Vietnam\")', 'score': 0.7570233, 'raw_content': None}, {'url': 'https://www.cntraveller.com/gallery/most-beautiful-places-in-the-world', 'title': 'The 71 most beautiful places in the world in 2025 | CN Traveller', 'content': \"A destination that needs no introduction – the Great Barrier Reef has long topped lists of the world's most beautiful places. It's the world's largest coral reef system, sprawling out across more than 2,000 kilometres. It goes without saying that trips here need to be taken with caution – over the past few decades, the impact of tourism and climate change has been felt dramatically. [...] Ask a travel editor to name the most beautiful place in the world, and you'll be in for a long, long answer. Ask anyone, for that matter – it's a tricky question with more than one answer. On a planet home to flamingo-pink lakes in [Mexico](https://www.cntraveller.com/gallery/best-hotels-mexico), vast multi-coloured hills in the USA, green ripples of rice paddies in Indonesia and epic icescapes in Antarctica, it's hard to choose a favourite. The answer also depends on personal preference – [...] Stretching over eight countries – France, [Switzerland](https://www.cntraveller.com/article/best-time-to-visit-switzerland), Monaco, [Italy](https://www.cntraveller.com/location/italy), Liechtenstein, Austria, Germany and Slovenia – the Alps are the most extensive mountain range in Europe. It has some of the greatest skiing in the world with popular towns including Chamonix-Mont-Blanc (the highest mountain), Lech, Gstaad and [Courchevel](https://www.cntraveller.com/article/courchevel-hotels).\", 'score': 0.72465646, 'raw_content': None}, {'url': 'https://www.cntraveler.com/galleries/2015-11-27/the-50-most-beautiful-places-in-the-world', 'title': '57 Most Beautiful Places in the World | Condé Nast Traveler', 'content': \"[beach](https://www.cntraveler.com/the-best-beaches-in-the-world), [forest](https://www.cntraveler.com/gallery/the-most-beautiful-forests-in-the-world), or [national park](https://www.cntraveler.com/gallery/best-national-parks-usa) below. [...] While you could occupy a lifetime curating your list of Mother Nature's greatest hits, we've shaved off some years for you by gathering the 57 most beautiful places in the world we think take the top spots. From the [White Continent](https://www.cntraveler.com/story/an-arctic-dogsledder-takes-on-challenging-new-terrain-antarctica) to the [Grand Canyon](https://www.cntraveler.com/story/grand-canyon-national-park), find your next favorite [...] ![Most Beautiful Places in the World Mt. Fuji](https://media.cntraveler.com/photos/60596b398f4452dac88c59f8/master/w_320%2Cc_limit/MtFuji-GettyImages-959111140.jpg)\\n\\n## Mount Fuji, Japan\", 'score': 0.7156829, 'raw_content': None}, {'url': 'https://www.luxurygold.com/lg/most-beautiful-places-in-the-world/', 'title': 'The 30 Most Beautiful Places in the World You Need to Visit', 'content': '# [The 30 Most Beautiful Places in the World You Need to Visit](https://www.luxurygold.com/lg/most-beautiful-places-in-the-world/ \"Permanent Link to The 30 Most Beautiful Places in the World You Need to Visit\")\\n\\n![The Great Barrier Reef, Australia](https://www.luxurygold.com/lg/wp-content/uploads/2024/08/ishan-seefromthesky-uxhmO7BumvA-unsplash-1160x770.jpg) [...] ![The Great Barrier Reef, Australia](https://www.luxurygold.com/lg/wp-content/uploads/2024/08/ishan-seefromthesky-uxhmO7BumvA-unsplash-1024x767.jpg)\\n\\nThe Great Barrier Reef, Australia\\n\\n## \\n\\n## Machu Picchu, Peru [...] ![Machu Picchu, Peru](https://www.luxurygold.com/lg/wp-content/uploads/2024/08/denisse-leon-8hMPBN1yeEw-unsplash-1024x683.jpg)\\n\\nMachu Picchu, Peru\\n\\n## \\n\\n## Pamukkale, Turkey\\n\\nThis western Turkish town is famous for its natural white travertine terraces, their scoops of natural pools filled by nourishing hot springs. Their gleaming white frame makes the pools an exquisite, luminous ice-blue. Visit on a day-trip from Marmaris or Dalaman on the coast.', 'score': 0.67063034, 'raw_content': None}], 'response_time': 3.44})]}"
      ]
     },
     "execution_count": 33,
     "metadata": {},
     "output_type": "execute_result"
    }
   ],
   "source": [
    "### Invocation\n",
    "\n",
    "messages = graph.invoke({'messages' : HumanMessage(content='Give me 5 beautiful destinations in world')})\n",
    "\n",
    "\n",
    "messages"
   ]
  },
  {
   "cell_type": "code",
   "execution_count": 37,
   "metadata": {},
   "outputs": [
    {
     "name": "stdout",
     "output_type": "stream",
     "text": [
      "================================\u001b[1m Human Message \u001b[0m=================================\n",
      "\n",
      "Give me 5 beautiful destinations in world\n",
      "==================================\u001b[1m Ai Message \u001b[0m==================================\n",
      "Tool Calls:\n",
      "  tavily_search_results_json (v9cnyzmbq)\n",
      " Call ID: v9cnyzmbq\n",
      "  Args:\n",
      "    query: top 5 most beautiful destinations in the world\n",
      "=================================\u001b[1m Tool Message \u001b[0m=================================\n",
      "Name: tavily_search_results_json\n",
      "\n",
      "[{\"title\": \"What are your top 5 of the most beautiful places on Earth that no one ...\", \"url\": \"https://www.quora.com/What-are-your-top-5-of-the-most-beautiful-places-on-Earth-that-no-one-thinks-about-include-pics\", \"content\": \"Briksdal Glacier, Norway · Bromo volcano, Indonesia · Rapa river delta, Lapland, Sweden · Shinto Gates, Kyoto, Japan · Tsingy de Bemaraha.\", \"score\": 0.7672197}, {\"title\": \"The World's 44 Most Beautiful Places - Time Out\", \"url\": \"https://www.timeout.com/travel/worlds-most-beautiful-places\", \"content\": \"## The world’s most beautiful places\\n\\n### 1. Komodo National Park, Indonesia\\n\\n![Komodo National Park, Indonesia](https://media.timeout.com/images/106257912/750/422/image.jpg \\\"Komodo National Park, Indonesia\\\")\\n![Komodo National Park, Indonesia](https://media.timeout.com/images/106257912/750/562/image.jpg \\\"Komodo National Park, Indonesia\\\") [...] **Time Out tip:** It’s easy to get swept along with walking tours, but it’s best to take your time and study the details. Get an audio guide (they come with the entrance fee), take a seat and let yourself be awed.\\n\\n![Grace Beard](https://media.timeout.com/images/106137956/170/170/image.jpg)\\n\\n### 5. Disko Island, Greenland [...] ![Antonia Windsor](https://media.timeout.com/images/106033286/170/170/image.jpg)\\n\\n### 10. Hà Giang, Vietnam\\n\\n![Hà Giang, Vietnam](https://media.timeout.com/images/106257907/750/422/image.jpg \\\"Hà Giang, Vietnam\\\")\\n![Hà Giang, Vietnam](https://media.timeout.com/images/106257907/750/562/image.jpg \\\"Hà Giang, Vietnam\\\")\", \"score\": 0.7570233}, {\"title\": \"The 71 most beautiful places in the world in 2025 | CN Traveller\", \"url\": \"https://www.cntraveller.com/gallery/most-beautiful-places-in-the-world\", \"content\": \"A destination that needs no introduction – the Great Barrier Reef has long topped lists of the world's most beautiful places. It's the world's largest coral reef system, sprawling out across more than 2,000 kilometres. It goes without saying that trips here need to be taken with caution – over the past few decades, the impact of tourism and climate change has been felt dramatically. [...] Ask a travel editor to name the most beautiful place in the world, and you'll be in for a long, long answer. Ask anyone, for that matter – it's a tricky question with more than one answer. On a planet home to flamingo-pink lakes in [Mexico](https://www.cntraveller.com/gallery/best-hotels-mexico), vast multi-coloured hills in the USA, green ripples of rice paddies in Indonesia and epic icescapes in Antarctica, it's hard to choose a favourite. The answer also depends on personal preference – [...] Stretching over eight countries – France, [Switzerland](https://www.cntraveller.com/article/best-time-to-visit-switzerland), Monaco, [Italy](https://www.cntraveller.com/location/italy), Liechtenstein, Austria, Germany and Slovenia – the Alps are the most extensive mountain range in Europe. It has some of the greatest skiing in the world with popular towns including Chamonix-Mont-Blanc (the highest mountain), Lech, Gstaad and [Courchevel](https://www.cntraveller.com/article/courchevel-hotels).\", \"score\": 0.72465646}, {\"title\": \"57 Most Beautiful Places in the World | Condé Nast Traveler\", \"url\": \"https://www.cntraveler.com/galleries/2015-11-27/the-50-most-beautiful-places-in-the-world\", \"content\": \"[beach](https://www.cntraveler.com/the-best-beaches-in-the-world), [forest](https://www.cntraveler.com/gallery/the-most-beautiful-forests-in-the-world), or [national park](https://www.cntraveler.com/gallery/best-national-parks-usa) below. [...] While you could occupy a lifetime curating your list of Mother Nature's greatest hits, we've shaved off some years for you by gathering the 57 most beautiful places in the world we think take the top spots. From the [White Continent](https://www.cntraveler.com/story/an-arctic-dogsledder-takes-on-challenging-new-terrain-antarctica) to the [Grand Canyon](https://www.cntraveler.com/story/grand-canyon-national-park), find your next favorite [...] ![Most Beautiful Places in the World Mt. Fuji](https://media.cntraveler.com/photos/60596b398f4452dac88c59f8/master/w_320%2Cc_limit/MtFuji-GettyImages-959111140.jpg)\\n\\n## Mount Fuji, Japan\", \"score\": 0.7156829}, {\"title\": \"The 30 Most Beautiful Places in the World You Need to Visit\", \"url\": \"https://www.luxurygold.com/lg/most-beautiful-places-in-the-world/\", \"content\": \"# [The 30 Most Beautiful Places in the World You Need to Visit](https://www.luxurygold.com/lg/most-beautiful-places-in-the-world/ \\\"Permanent Link to The 30 Most Beautiful Places in the World You Need to Visit\\\")\\n\\n![The Great Barrier Reef, Australia](https://www.luxurygold.com/lg/wp-content/uploads/2024/08/ishan-seefromthesky-uxhmO7BumvA-unsplash-1160x770.jpg) [...] ![The Great Barrier Reef, Australia](https://www.luxurygold.com/lg/wp-content/uploads/2024/08/ishan-seefromthesky-uxhmO7BumvA-unsplash-1024x767.jpg)\\n\\nThe Great Barrier Reef, Australia\\n\\n## \\n\\n## Machu Picchu, Peru [...] ![Machu Picchu, Peru](https://www.luxurygold.com/lg/wp-content/uploads/2024/08/denisse-leon-8hMPBN1yeEw-unsplash-1024x683.jpg)\\n\\nMachu Picchu, Peru\\n\\n## \\n\\n## Pamukkale, Turkey\\n\\nThis western Turkish town is famous for its natural white travertine terraces, their scoops of natural pools filled by nourishing hot springs. Their gleaming white frame makes the pools an exquisite, luminous ice-blue. Visit on a day-trip from Marmaris or Dalaman on the coast.\", \"score\": 0.67063034}]\n"
     ]
    }
   ],
   "source": [
    "for m in messages['messages']:\n",
    "    m.pretty_print()"
   ]
  },
  {
   "cell_type": "code",
   "execution_count": 38,
   "metadata": {},
   "outputs": [],
   "source": [
    "messages = graph.invoke({'messages' : HumanMessage(content='Give me details about research paper Attention is all you need')})"
   ]
  },
  {
   "cell_type": "code",
   "execution_count": 39,
   "metadata": {},
   "outputs": [
    {
     "name": "stdout",
     "output_type": "stream",
     "text": [
      "================================\u001b[1m Human Message \u001b[0m=================================\n",
      "\n",
      "Give me details about research paper Attention is all you need\n",
      "==================================\u001b[1m Ai Message \u001b[0m==================================\n",
      "Tool Calls:\n",
      "  arxiv (hk3eycj0w)\n",
      " Call ID: hk3eycj0w\n",
      "  Args:\n",
      "    query: Attention is all you need\n",
      "=================================\u001b[1m Tool Message \u001b[0m=================================\n",
      "Name: arxiv\n",
      "\n",
      "Published: 2024-07-22\n",
      "Title: Attention Is All You Need But You Don't Need All Of It For Inference of Large Language Models\n",
      "Authors: Georgy Tyukin, Gbetondji J-S Dovonon, Jean Kaddour, Pasquale Minervini\n",
      "Summary: The inference demand for LLMs has skyrocketed in recent months, and serving\n",
      "models with low latencies remains challenging due to the quadratic input length\n",
      "complexity of the attention layers. In this work, we investigate the effect of\n",
      "dropping MLP and attention layers at inference time o\n"
     ]
    }
   ],
   "source": [
    "for m in messages['messages']:\n",
    "    m.pretty_print()"
   ]
  },
  {
   "cell_type": "code",
   "execution_count": 40,
   "metadata": {},
   "outputs": [],
   "source": [
    "messages = graph.invoke({'messages' : HumanMessage(content='What is Machine Learning')})"
   ]
  },
  {
   "cell_type": "code",
   "execution_count": 41,
   "metadata": {},
   "outputs": [
    {
     "name": "stdout",
     "output_type": "stream",
     "text": [
      "================================\u001b[1m Human Message \u001b[0m=================================\n",
      "\n",
      "What is Machine Learning\n",
      "==================================\u001b[1m Ai Message \u001b[0m==================================\n",
      "Tool Calls:\n",
      "  wikipedia (kvvxz2fh6)\n",
      " Call ID: kvvxz2fh6\n",
      "  Args:\n",
      "    query: Machine Learning\n",
      "=================================\u001b[1m Tool Message \u001b[0m=================================\n",
      "Name: wikipedia\n",
      "\n",
      "Page: Machine learning\n",
      "Summary: Machine learning (ML) is a field of study in artificial intelligence concerned with the development and study of statistical algorithms that can learn from data and generalise to unseen data, and thus perform tasks without explicit instructions. Within a subdiscipline in machine learning, advances in the field of deep learning have allowed neural networks, a class of statistical algorithms, to surpass many previous machine learning approaches in performance.\n",
      "ML fi\n"
     ]
    }
   ],
   "source": [
    "for m in messages['messages']:\n",
    "    m.pretty_print()"
   ]
  }
 ],
 "metadata": {
  "language_info": {
   "name": "python"
  }
 },
 "nbformat": 4,
 "nbformat_minor": 2
}
