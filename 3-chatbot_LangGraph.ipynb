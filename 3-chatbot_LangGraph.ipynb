{
 "cells": [
  {
   "cell_type": "markdown",
   "metadata": {},
   "source": [
    "Implementing simple Chatbot using LangGraph"
   ]
  },
  {
   "cell_type": "code",
   "execution_count": 12,
   "metadata": {},
   "outputs": [],
   "source": [
    "from typing_extensions import TypedDict\n",
    "from langgraph.graph import StateGraph, START, END\n",
    "from typing import Annotated\n",
    "from IPython.display import Image, display\n",
    "\n",
    "### Reducer\n",
    "from langgraph.graph.message import add_messages\n"
   ]
  },
  {
   "cell_type": "code",
   "execution_count": 2,
   "metadata": {},
   "outputs": [],
   "source": [
    "#### Defining the State Schema of the chatbot\n",
    "\n",
    "class State(TypedDict):\n",
    "    messages : Annotated[list,add_messages]\n"
   ]
  },
  {
   "cell_type": "code",
   "execution_count": 3,
   "metadata": {},
   "outputs": [],
   "source": [
    "import os\n",
    "from dotenv import load_dotenv\n",
    "load_dotenv()\n",
    "\n",
    "groq_api_key = os.getenv('GROQ_API_KEY')"
   ]
  },
  {
   "cell_type": "code",
   "execution_count": 8,
   "metadata": {},
   "outputs": [
    {
     "name": "stdout",
     "output_type": "stream",
     "text": [
      "c:\\Users\\Admin\\Documents\\Movate_AgenticAI\\venv\n"
     ]
    }
   ],
   "source": [
    "import sys\n",
    "print(sys.prefix)"
   ]
  },
  {
   "cell_type": "code",
   "execution_count": 4,
   "metadata": {},
   "outputs": [
    {
     "data": {
      "text/plain": [
       "'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'"
      ]
     },
     "execution_count": 4,
     "metadata": {},
     "output_type": "execute_result"
    }
   ],
   "source": [
    "groq_api_key"
   ]
  },
  {
   "cell_type": "code",
   "execution_count": 5,
   "metadata": {},
   "outputs": [
    {
     "data": {
      "text/plain": [
       "AIMessage(content='\\n<think>\\nOkay, the user asked, \"Hey how are you doing today?\" I need to respond appropriately. Let me start by acknowledging their greeting. Since I\\'m an AI, I don\\'t have feelings, but I should make that clear in a friendly way.\\n\\nI should keep the tone positive and offer assistance. Maybe say something like, \"I\\'m just a large language model, so I don\\'t have feelings, but thanks for asking!\" Then ask how they are doing and offer help with anything they need. Let me check if that flows naturally. Yeah, that should work. Let me put it all together.\\n</think>\\n\\nI\\'m just a large language model, so I don\\'t have feelings, but thanks for asking! 😊 How about you? Is there anything I can help you with today?', additional_kwargs={}, response_metadata={'token_usage': {'completion_tokens': 161, 'prompt_tokens': 18, 'total_tokens': 179, 'completion_time': 0.40419832, 'prompt_time': 0.003180997, 'queue_time': 0.244033252, 'total_time': 0.407379317}, 'model_name': 'qwen-qwq-32b', 'system_fingerprint': 'fp_98b01f25b2', 'finish_reason': 'stop', 'logprobs': None}, id='run--9b87159e-9f96-464d-bc4c-8fe6d30ecef5-0', usage_metadata={'input_tokens': 18, 'output_tokens': 161, 'total_tokens': 179})"
      ]
     },
     "execution_count": 5,
     "metadata": {},
     "output_type": "execute_result"
    }
   ],
   "source": [
    "from langchain_groq import ChatGroq\n",
    "\n",
    "llm_groq = ChatGroq(model=\"qwen-qwq-32b\")\n",
    "llm_groq.invoke(\"Hey how are you doing today? \")"
   ]
  },
  {
   "cell_type": "markdown",
   "metadata": {},
   "source": [
    "We will start creating Nodes"
   ]
  },
  {
   "cell_type": "code",
   "execution_count": 6,
   "metadata": {},
   "outputs": [],
   "source": [
    "def superbot(state:State):\n",
    "    return {'messages' : [llm_groq.invoke(state['messages'])]}"
   ]
  },
  {
   "cell_type": "markdown",
   "metadata": {},
   "source": [
    "Construction of Graph"
   ]
  },
  {
   "cell_type": "code",
   "execution_count": 7,
   "metadata": {},
   "outputs": [],
   "source": [
    "graph = StateGraph(State)"
   ]
  },
  {
   "cell_type": "markdown",
   "metadata": {},
   "source": [
    "Adding the node"
   ]
  },
  {
   "cell_type": "code",
   "execution_count": 8,
   "metadata": {},
   "outputs": [
    {
     "data": {
      "text/plain": [
       "<langgraph.graph.state.StateGraph at 0x1aa48a80510>"
      ]
     },
     "execution_count": 8,
     "metadata": {},
     "output_type": "execute_result"
    }
   ],
   "source": [
    "graph.add_node(\"superbot\" , superbot)"
   ]
  },
  {
   "cell_type": "markdown",
   "metadata": {},
   "source": [
    "Adding the edges"
   ]
  },
  {
   "cell_type": "code",
   "execution_count": 10,
   "metadata": {},
   "outputs": [
    {
     "data": {
      "text/plain": [
       "<langgraph.graph.state.StateGraph at 0x1aa48a80510>"
      ]
     },
     "execution_count": 10,
     "metadata": {},
     "output_type": "execute_result"
    }
   ],
   "source": [
    "graph.add_edge(START , \"superbot\")\n",
    "graph.add_edge(\"superbot\" , END)"
   ]
  },
  {
   "cell_type": "markdown",
   "metadata": {},
   "source": [
    "Compile the Graph"
   ]
  },
  {
   "cell_type": "code",
   "execution_count": 11,
   "metadata": {},
   "outputs": [],
   "source": [
    "graph_builder = graph.compile()"
   ]
  },
  {
   "cell_type": "markdown",
   "metadata": {},
   "source": [
    "View the Graph"
   ]
  },
  {
   "cell_type": "code",
   "execution_count": 13,
   "metadata": {},
   "outputs": [
    {
     "data": {
      "image/png": "[encoded data removed]",
      "text/plain": [
       "<IPython.core.display.Image object>"
      ]
     },
     "metadata": {},
     "output_type": "display_data"
    }
   ],
   "source": [
    "display(Image(graph_builder.get_graph().draw_mermaid_png()))"
   ]
  },
  {
   "cell_type": "markdown",
   "metadata": {},
   "source": [
    "Invocation of graph as a Chatbot"
   ]
  },
  {
   "cell_type": "code",
   "execution_count": 14,
   "metadata": {},
   "outputs": [
    {
     "data": {
      "text/plain": [
       "{'messages': [HumanMessage(content='Hi my name is Ankur. I like to train on Gen AI', additional_kwargs={}, response_metadata={}, id='37f9a781-0570-4e3f-ae97-6204bc2248d6'),\n",
       "  AIMessage(content=\"\\n<think>\\nOkay, Ankur has introduced himself and mentioned he wants to train on Gen AI. Let me start by welcoming him and acknowledging his interest. I should ask him more about his goals to understand how I can assist better. Maybe he's looking to learn the fundamentals, work on specific projects, or get resources? I should keep the tone friendly and encouraging. Let me make sure to phrase my questions in a way that invites him to share more details so I can provide tailored advice. I should also mention some general ways to get started with Gen AI, like learning about models, frameworks, or available datasets. But first, I need to prompt him to elaborate on his objectives. Let me structure my response to be open-ended and supportive.\\n</think>\\n\\nHi Ankur! It's great to meet you. Training in Gen AI is an exciting field with so much potential! Could you share a bit more about what you're hoping to achieve with Gen AI? For example:\\n\\n1. **Learning Goals**: Are you looking to understand the fundamentals (e.g., how models like me work, training workflows, etc.) or dive into advanced topics (e.g., prompt engineering, fine-tuning, ethical considerations)?  \\n2. **Projects/Use Cases**: Do you have specific applications in mind (e.g., content generation, chatbots, research, or industry-specific solutions)?  \\n3. **Resources**: Are you interested in tools, frameworks (e.g., Hugging Face, TensorFlow, PyTorch), or datasets?  \\n\\nThe more details you share, the better I can tailor advice or resources to help you succeed! 😊\", additional_kwargs={}, response_metadata={'token_usage': {'completion_tokens': 326, 'prompt_tokens': 24, 'total_tokens': 350, 'completion_time': 0.791848117, 'prompt_time': 0.003371817, 'queue_time': 0.303863492, 'total_time': 0.795219934}, 'model_name': 'qwen-qwq-32b', 'system_fingerprint': 'fp_1e88ca32eb', 'finish_reason': 'stop', 'logprobs': None}, id='run--a893bed5-d7f8-45eb-ab18-7a9d9a052328-0', usage_metadata={'input_tokens': 24, 'output_tokens': 326, 'total_tokens': 350})]}"
      ]
     },
     "execution_count": 14,
     "metadata": {},
     "output_type": "execute_result"
    }
   ],
   "source": [
    "graph_builder.invoke({'messages' : \"Hi my name is Ankur. I like to train on Gen AI\"})"
   ]
  },
  {
   "cell_type": "markdown",
   "metadata": {},
   "source": [
    "Streaming the response"
   ]
  },
  {
   "cell_type": "code",
   "execution_count": 15,
   "metadata": {},
   "outputs": [
    {
     "name": "stdout",
     "output_type": "stream",
     "text": [
      "{'superbot': {'messages': [AIMessage(content='\\n<think>\\nOkay, the user is Ankur, and he wants to train on Gen AI. Let me first figure out what exactly he means by \"train on Gen AI.\" Maybe he\\'s looking to get trained in using Generative AI, or perhaps he wants to train his own models? Since he mentioned \"train on Gen AI,\" I should consider both possibilities.\\n\\nAnkur might be a developer or someone interested in AI, so I should start by asking for more details. But since he just provided a greeting and a statement, I need to respond in a friendly way to encourage him to elaborate. Maybe he\\'s a beginner, so I should offer some basic resources or steps to get started with Gen AI.\\n\\nAlso, considering the response examples provided, I should structure my answer to be helpful and open-ended. I should mention learning resources, tools, and maybe even projects he can try. Let me list some key points:\\n\\n1. Clarify what he wants: training himself or training models?\\n2. Suggest online courses (Coursera, Udacity, etc.)\\n3. Mention frameworks like TensorFlow, PyTorch, Hugging Face\\n4. Recommend books or papers\\n5. Encourage practical projects\\n6. Offer to help with specific questions\\n\\nWait, the user is named Ankur, so I should address him by name to keep it personal. Also, make sure the response is encouraging and supportive. Let me put this together into a coherent message.\\n</think>\\n\\nHello Ankur! Great to meet you and welcome to the world of Generative AI (Gen AI)! I’d love to help you get started. Could you clarify a bit more about what you\\'re looking to do? For example:\\n\\n1. **Are you aiming to learn about Gen AI concepts and tools?**  \\n   (e.g., understanding how models like GPT or Stable Diffusion work, or experimenting with prompts for creative projects?)\\n\\n2. **Or are you interested in training your own Gen AI models?**  \\n   (e.g., fine-tuning existing models, building custom text/image/generative systems?)\\n\\nEither way, I can guide you! Here are some **initial suggestions to get you started**:\\n\\n---\\n\\n### **If you’re new to Gen AI:**\\n- **Learn the basics**:  \\n  - Start with free online courses like [\"Generative AI Basics\"](https://learn.microsoft.com/en-us/learn/paths/generative-ai-basics/) (Microsoft Learn) or Coursera’s [\"AI for Everyone\"](https://www.coursera.org/learn/ai-for-everyone).  \\n  - Read Andrej Karpathy’s blog post, [\"The Unreasonable Effectiveness of Recurrent Neural Networks\"](http://karpathy.github.io/2015/05/21/rnn-effectiveness/), to understand foundational concepts.\\n- **Experiment with tools**:  \\n  - Play around with platforms like [Hugging Face](https://huggingface.co/) or [OpenAI’s Playground](https://platform.openai.com/playground) to see Gen AI in action.\\n  - Try generating text, images, or even code with tools like DALL-E, MidJourney, or GitHub Copilot.\\n\\n---\\n\\n### **If you want to train your own models:**\\n- **Learn programming and frameworks**:  \\n  - Python is essential. Start with libraries like **PyTorch** or **TensorFlow** (check out [PyTorch’s tutorials](https://pytorch.org/tutorials/)).  \\n  - Explore libraries like **Transformers** (Hugging Face’s library for NLP) or **Stable Diffusion** for image generation.\\n- **Start small**:  \\n  - Begin with fine-tuning pre-trained models (e.g., using Hugging Face’s [PEFT](https://huggingface.co/peft) or [LoRA](https://arxiv.org/abs/2106.09685)) instead of training from scratch.  \\n  - Try projects like generating custom text for a use case (e.g., chatbots, content creation) or creating art with image models.\\n- **Deepen your knowledge**:  \\n  - Read papers on transformers (e.g., [Attention Is All You Need](https://arxiv.org/abs/1706.03762)) and foundational Gen AI architectures.  \\n  - Check out Andrew Ng’s [Machine Learning Yearning](https://www.deeplearning.ai/ml-questions/) for practical insights.\\n\\n---\\n\\n### **Resources I recommend:**\\n- **Books**:  \\n  - *Deep Learning* by Ian Goodfellow (for theory).  \\n  - *Hands-On Machine Learning with Scikit-Learn, Keras, and TensorFlow* by Aurélien Géron (practical coding).)  \\n- **Communities**:  \\n  - Join forums like [Reddit’s r/LearnMachineLearning](https://www.reddit.com/r/MachineLearning/) or [Kaggle](https://www.kaggle.com/) for projects and discussions.\\n\\n---\\n\\nLet me know where you’d like to dive in, and I’ll tailor advice for you! 😊 Are you a developer, researcher, or just curious? What specific areas (text, images, audio) interest you?', additional_kwargs={}, response_metadata={'token_usage': {'completion_tokens': 1081, 'prompt_tokens': 24, 'total_tokens': 1105, 'completion_time': 2.620640862, 'prompt_time': 0.003827425, 'queue_time': 0.696107995, 'total_time': 2.624468287}, 'model_name': 'qwen-qwq-32b', 'system_fingerprint': 'fp_1e88ca32eb', 'finish_reason': 'stop', 'logprobs': None}, id='run--29c8b5dd-d2e1-4bc9-ab72-dc9d792513cd-0', usage_metadata={'input_tokens': 24, 'output_tokens': 1081, 'total_tokens': 1105})]}}\n"
     ]
    }
   ],
   "source": [
    "for event in graph_builder.stream({'messages' : \"Hi my name is Ankur. I like to train on Gen AI\"}):\n",
    "    print(event)"
   ]
  },
  {
   "cell_type": "code",
   "execution_count": null,
   "metadata": {},
   "outputs": [],
   "source": []
  }
 ],
 "metadata": {
  "language_info": {
   "name": "python"
  }
 },
 "nbformat": 4,
 "nbformat_minor": 2
}
